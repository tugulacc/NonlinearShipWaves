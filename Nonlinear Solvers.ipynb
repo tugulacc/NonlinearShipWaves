{
 "cells": [
  {
   "cell_type": "markdown",
   "metadata": {},
   "source": [
    "# Nonlinear solvers\n",
    "This is a large-scale nonlinear multidimensional solver. It finds $x$ for which $F(x)=0$, using Krylov approximation for inverse Jacobian. Both $x$ and $F$ can be multidimensional.\n",
    "## Root finding for large problems\n",
    "Suppose that we needed to solve the following integrodifferential equation on the square $[0,1]\\times[0,1]$:\n",
    "$$\n",
    "\\left(\\partial_x^2+\\partial_y^2 \\right) P + 5\\left(\\int^1_0\\int^1_0\\mathrm{cosh}(P)dx dy\\right)^2=0\n",
    "$$\n",
    "with the boundary condition $P(x,1)=1$ on the upper edge and and $P=0$ elsewhere on the boundary of the square. This can be done by approximating the continuous function $P$ by its values on a grid, $P_{n,m}\\approx P(nh,mh)$, with a small grid spacing $h$. The derivatives and integral can then be approximated; for instance \n",
    "$$\n",
    "\\partial_x^2 P(x,y) \\approx \\frac{P(x+h,y)-2P(x,y)+P(x-h,y)}{h^2}.\n",
    "$$\n",
    "The problem is then equivalent to finding the root of some function $\\texttt{residual(P)}$, where $\\texttt{P}$ is a vector of length $N_x N_y$. \n",
    "The solution can be found using the [newton_krylov](http://jiffyclub.github.io/scipy/generated/scipy.optimize.newton_krylov.html#scipy.optimize.newton_krylov) solver:"
   ]
  },
  {
   "cell_type": "code",
   "execution_count": 1,
   "metadata": {},
   "outputs": [],
   "source": [
    "import numpy as np\n",
    "from scipy.optimize import newton_krylov, root\n",
    "from numpy import cosh, zeros_like, mgrid, zeros, eye\n",
    "\n",
    "# parameters\n",
    "nx, ny = 75, 75\n",
    "hx, hy = 1./(nx-1), 1./(ny-1)\n",
    "\n",
    "P_left, P_right = 0, 0\n",
    "P_top, P_bottom = 1, 0\n",
    "\n",
    "def residual(P):\n",
    "    d2x = zeros_like(P)\n",
    "    d2y = zeros_like(P)\n",
    "\n",
    "    d2x[1:-1] = (P[2:]   - 2*P[1:-1] + P[:-2]) / hx/hx\n",
    "    d2x[0]    = (P[1]    - 2*P[0]    + P_left)/hx/hx\n",
    "    d2x[-1]   = (P_right - 2*P[-1]   + P[-2])/hx/hx\n",
    "\n",
    "    d2y[:,1:-1] = (P[:,2:] - 2*P[:,1:-1] + P[:,:-2])/hy/hy\n",
    "    d2y[:,0]    = (P[:,1]  - 2*P[:,0]    + P_bottom)/hy/hy\n",
    "    d2y[:,-1]   = (P_top   - 2*P[:,-1]   + P[:,-2])/hy/hy\n",
    "\n",
    "    return d2x + d2y + 5*cosh(P).mean()**2\n"
   ]
  },
  {
   "cell_type": "code",
   "execution_count": 2,
   "metadata": {},
   "outputs": [
    {
     "name": "stdout",
     "output_type": "stream",
     "text": [
      "0:  |F(x)| = 75.2443; step 1\n",
      "1:  |F(x)| = 23.0366; step 1\n",
      "2:  |F(x)| = 13.8722; step 1\n",
      "3:  |F(x)| = 9.71018; step 1\n",
      "4:  |F(x)| = 7.46537; step 1\n",
      "5:  |F(x)| = 5.0889; step 1\n",
      "6:  |F(x)| = 4.27331; step 1\n",
      "7:  |F(x)| = 3.02498; step 1\n",
      "8:  |F(x)| = 2.51137; step 1\n",
      "9:  |F(x)| = 1.84834; step 1\n",
      "10:  |F(x)| = 1.55923; step 1\n",
      "11:  |F(x)| = 1.14455; step 1\n",
      "12:  |F(x)| = 0.978506; step 1\n",
      "13:  |F(x)| = 0.714267; step 1\n",
      "14:  |F(x)| = 0.616282; step 1\n",
      "15:  |F(x)| = 0.447724; step 1\n",
      "16:  |F(x)| = 0.388935; step 1\n",
      "17:  |F(x)| = 0.281375; step 1\n",
      "18:  |F(x)| = 0.245671; step 1\n",
      "19:  |F(x)| = 0.177115; step 1\n",
      "20:  |F(x)| = 0.155239; step 1\n",
      "21:  |F(x)| = 0.111601; step 1\n",
      "22:  |F(x)| = 0.0981002; step 1\n",
      "23:  |F(x)| = 0.0703571; step 1\n",
      "24:  |F(x)| = 0.0619869; step 1\n",
      "25:  |F(x)| = 0.0443711; step 1\n",
      "26:  |F(x)| = 0.0391644; step 1\n",
      "27:  |F(x)| = 0.027991; step 1\n",
      "28:  |F(x)| = 0.0247407; step 1\n",
      "29:  |F(x)| = 0.0176599; step 1\n",
      "30:  |F(x)| = 0.0156475; step 1\n",
      "31:  |F(x)| = 0.0111452; step 1\n",
      "32:  |F(x)| = 0.00989751; step 1\n",
      "33:  |F(x)| = 0.00703513; step 1\n",
      "34:  |F(x)| = 0.00625989; step 1\n",
      "35:  |F(x)| = 0.0044412; step 1\n",
      "36:  |F(x)| = 0.00395925; step 1\n",
      "37:  |F(x)| = 0.00281134; step 1\n",
      "38:  |F(x)| = 0.00250432; step 1\n",
      "39:  |F(x)| = 0.00178057; step 1\n",
      "40:  |F(x)| = 0.00158398; step 1\n",
      "41:  |F(x)| = 0.00112798; step 1\n",
      "42:  |F(x)| = 0.00100197; step 1\n",
      "43:  |F(x)| = 0.000714756; step 1\n",
      "44:  |F(x)| = 0.000633953; step 1\n",
      "45:  |F(x)| = 0.000453029; step 1\n",
      "46:  |F(x)| = 0.000401183; step 1\n",
      "47:  |F(x)| = 0.000287207; step 1\n",
      "48:  |F(x)| = 0.000254027; step 1\n",
      "49:  |F(x)| = 0.000182129; step 1\n",
      "50:  |F(x)| = 0.000160862; step 1\n",
      "51:  |F(x)| = 0.000115512; step 1\n",
      "52:  |F(x)| = 0.000101883; step 1\n",
      "53:  |F(x)| = 7.32841e-05; step 1\n",
      "54:  |F(x)| = 6.45369e-05; step 1\n",
      "55:  |F(x)| = 4.64968e-05; step 1\n",
      "56:  |F(x)| = 4.08861e-05; step 1\n",
      "57:  |F(x)| = 2.95078e-05; step 1\n",
      "58:  |F(x)| = 2.59079e-05; step 1\n",
      "59:  |F(x)| = 1.87299e-05; step 1\n",
      "60:  |F(x)| = 1.64189e-05; step 1\n",
      "61:  |F(x)| = 1.18904e-05; step 1\n",
      "62:  |F(x)| = 1.04066e-05; step 1\n",
      "63:  |F(x)| = 7.54976e-06; step 1\n",
      "64:  |F(x)| = 6.59704e-06; step 1\n",
      "65:  |F(x)| = 4.79419e-06; step 1\n",
      "Residual: 4.79419e-06\n"
     ]
    }
   ],
   "source": [
    "# solve\n",
    "guess = zeros((nx, ny), float)\n",
    "sol = newton_krylov(residual, guess, method='gmres', verbose=1)\n",
    "print('Residual: %g' % abs(residual(sol)).max())"
   ]
  },
  {
   "cell_type": "code",
   "execution_count": 3,
   "metadata": {},
   "outputs": [
    {
     "data": {
      "image/png": "[encoded data removed]",
      "text/plain": [
       "<Figure size 432x288 with 2 Axes>"
      ]
     },
     "metadata": {
      "needs_background": "light"
     },
     "output_type": "display_data"
    }
   ],
   "source": [
    "# visualize\n",
    "import matplotlib.pyplot as plt\n",
    "x, y = mgrid[0:1:(nx*1j), 0:1:(ny*1j)]\n",
    "plt.pcolor(x, y, sol)\n",
    "plt.colorbar()\n",
    "plt.show()"
   ]
  },
  {
   "cell_type": "markdown",
   "metadata": {},
   "source": [
    "## Preconditioning\n",
    "When looking for the zero of the function $f_i(\\mathbf{x})=0$, $i=1,2,\\ldots,N$ the solver spends most of its time inverting the Jacobian matrix\n",
    "$$\n",
    "\\mathbf{J}_{i,j}=\\frac{\\partial f_i}{\\partial x_j}.\n",
    "$$\n",
    "If you have an approximation for the inverse matrix $\\mathbf{M}\\approx \\mathbf{J}^{-1}$,  you can use it for _preconditioning_ the linear-inversion problem. The idea is that instead of solving $\\mathbf{J}\\mathbf{s}=\\mathbf{y}$ you solve $\\mathbf{M}\\mathbf{J}\\mathbf{s}=\\mathbf{M}\\mathbf{y}$. Since $\\mathbf{M}\\mathbf{J}\\approx \\mathbf{I}$ is \"closer\" to the identity matrix than $\\mathbf{J}$ is, the equation should be easier for the Krylov method to deal with. \n",
    "\n",
    "The Jacobian corresponding to the Laplace operator part of the function (denoted $\\mathbf{J}_1$) can be computed easily. We know that in 1-D:\n",
    "$$\n",
    "\\partial_x^2\\approx\n",
    "\\frac{1}{h^2_x}\n",
    "\\begin{bmatrix}\n",
    "-2 & 1 & 0 & 0 &\\cdots\\\\\n",
    " 1 &-2 & 1 & 0 &\\cdots\\\\\n",
    " 0 & 1 &-2 & 1 &\\cdots\\\\\n",
    "\\vdots & & &\\ddots & \n",
    "\\end{bmatrix}=h_x^{-2}\\mathbf{L}\n",
    "$$\n",
    "so the whole 2-D operator is then\n",
    "$$\n",
    "\\mathbf{J}_1 = \\partial_x^2 + \\partial_y^2\\approx h_x^{-2}\\mathbf{L}\\otimes\\mathbf{I} + h_y^{-2}\\mathbf{I}\\otimes\\mathbf{L}.\n",
    "$$\n",
    "The matrix $\\mathbf{J}_2$ of the Jacobian corresponding to the integral is more difficult to calculate, and since _all_ of its entries are nonzero, it will be difficult to invert. Since $\\mathbf{J}_1$ is easy to invert, we'll take $\\mathbf{M}\\approx \\mathbf{J}^{-1}_1$ and hope for the best."
   ]
  },
  {
   "cell_type": "code",
   "execution_count": 7,
   "metadata": {},
   "outputs": [],
   "source": [
    "from scipy.sparse import spdiags, kron, csc_matrix\n",
    "from scipy.sparse.linalg import spilu, LinearOperator\n",
    "\n",
    "def get_preconditioner():\n",
    "    \"\"\"Compute the preconditioner M\"\"\"\n",
    "    diags_x = zeros((3, nx))\n",
    "    diags_x[0,:] = 1/hx/hx\n",
    "    diags_x[1,:] = -2/hx/hx\n",
    "    diags_x[2,:] = 1/hx/hx\n",
    "    Lx = spdiags(diags_x, [-1,0,1], nx, nx)\n",
    "\n",
    "    diags_y = zeros((3, ny))\n",
    "    diags_y[0,:] = 1/hy/hy\n",
    "    diags_y[1,:] = -2/hy/hy\n",
    "    diags_y[2,:] = 1/hy/hy\n",
    "    Ly = spdiags(diags_y, [-1,0,1], ny, ny)\n",
    "\n",
    "    J1 = kron(Lx, eye(ny)) + kron(eye(nx), Ly)\n",
    "    J1 = csc_matrix(J1) # convert to sparse format to use spilu\n",
    "\n",
    "    # Now we have the matrix `J_1`. We need to find its inverse `M` --\n",
    "    # however, since an approximate inverse is enough, we can use\n",
    "    # the *incomplete LU* decomposition\n",
    "\n",
    "    J1_ilu = spilu(J1)\n",
    "\n",
    "    # This returns an object with a method .solve() that evaluates\n",
    "    # the corresponding matrix-vector product. We need to wrap it into\n",
    "    # a LinearOperator before it can be passed to the Krylov methods:\n",
    "\n",
    "    M = LinearOperator(shape=(nx*ny, nx*ny), matvec=J1_ilu.solve)\n",
    "    return M"
   ]
  },
  {
   "cell_type": "code",
   "execution_count": 8,
   "metadata": {},
   "outputs": [
    {
     "name": "stdout",
     "output_type": "stream",
     "text": [
      "0:  |F(x)| = 58.5587; step 1\n",
      "1:  |F(x)| = 7.15202; step 1\n",
      "2:  |F(x)| = 0.622405; step 1\n",
      "3:  |F(x)| = 0.00627306; step 1\n",
      "4:  |F(x)| = 0.000341975; step 1\n",
      "5:  |F(x)| = 4.24218e-06; step 1\n",
      "Residual: 4.24218e-06\n"
     ]
    }
   ],
   "source": [
    "M = get_preconditioner()\n",
    "sol = newton_krylov(residual, guess, method='gmres', inner_M=M, verbose=1)\n",
    "print('Residual: %g' % abs(residual(sol)).max())"
   ]
  },
  {
   "cell_type": "code",
   "execution_count": 6,
   "metadata": {},
   "outputs": [
    {
     "data": {
      "image/png": "[encoded data removed]",
      "text/plain": [
       "<Figure size 432x288 with 2 Axes>"
      ]
     },
     "metadata": {
      "needs_background": "light"
     },
     "output_type": "display_data"
    }
   ],
   "source": [
    "# visualize\n",
    "import matplotlib.pyplot as plt\n",
    "x, y = mgrid[0:1:(nx*1j), 0:1:(ny*1j)]\n",
    "plt.pcolor(x, y, sol)\n",
    "plt.colorbar()\n",
    "plt.show()"
   ]
  }
 ],
 "metadata": {
  "kernelspec": {
   "display_name": "Python 3",
   "language": "python",
   "name": "python3"
  },
  "language_info": {
   "codemirror_mode": {
    "name": "ipython",
    "version": 3
   },
   "file_extension": ".py",
   "mimetype": "text/x-python",
   "name": "python",
   "nbconvert_exporter": "python",
   "pygments_lexer": "ipython3",
   "version": "3.7.6"
  }
 },
 "nbformat": 4,
 "nbformat_minor": 4
}
