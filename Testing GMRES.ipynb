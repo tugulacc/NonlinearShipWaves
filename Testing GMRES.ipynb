{
 "cells": [
  {
   "cell_type": "markdown",
   "metadata": {},
   "source": [
    "# Example 1\n",
    "Solving $\\mathbf{A}\\vec{x}=\\vec{b}$ where \n",
    "$$\n",
    "\\mathbf{A}=\n",
    "\\begin{bmatrix}\n",
    "3 & 2 & 0\\\\\n",
    "1 &-1 & 0\\\\\n",
    "0 & 5 & 1\n",
    "\\end{bmatrix}, \\quad\n",
    "\\vec{b} =\n",
    "\\begin{bmatrix}\n",
    "2\\\\4\\\\-1\n",
    "\\end{bmatrix}\n",
    "$$"
   ]
  },
  {
   "cell_type": "code",
   "execution_count": 114,
   "metadata": {},
   "outputs": [],
   "source": [
    "import numpy as np\n",
    "from scipy.sparse import csc_matrix\n",
    "import scipy.sparse.linalg as spla\n",
    "import time\n",
    "\n",
    "A = csc_matrix([[3, 2, 0], [1, -1, 0], [0, 5, 1]], dtype=float)\n",
    "b = np.array([2, 4, -1], dtype=float)"
   ]
  },
  {
   "cell_type": "code",
   "execution_count": 116,
   "metadata": {},
   "outputs": [
    {
     "name": "stdout",
     "output_type": "stream",
     "text": [
      "--- 0.0009963512420654297 seconds ---\n",
      "0\n"
     ]
    },
    {
     "data": {
      "text/plain": [
       "True"
      ]
     },
     "execution_count": 116,
     "metadata": {},
     "output_type": "execute_result"
    }
   ],
   "source": [
    "start_time = time.time()\n",
    "'''\n",
    "Use Generalized Minimal RESidual iteration to solve Ax=b\n",
    "exitCode provides convergence information\n",
    "  0 : sucessful exit\n",
    " >0 : convergence to tolerance not achieved, number of iterations\n",
    " <0 : illegal input or breakdown\n",
    "'''\n",
    "x, exitCode = spla.gmres(A,b) # GMRES iteration without preconditioning\n",
    "print(\"--- %s seconds ---\" % (time.time() - start_time))\n",
    "print(exitCode) \n",
    "np.allclose(A.dot(x),b) # check if two arrays are element-wise equal within a tolerance"
   ]
  },
  {
   "cell_type": "code",
   "execution_count": 118,
   "metadata": {},
   "outputs": [
    {
     "name": "stdout",
     "output_type": "stream",
     "text": [
      "--- 0.0009963512420654297 seconds ---\n",
      "0\n"
     ]
    },
    {
     "data": {
      "text/plain": [
       "True"
      ]
     },
     "execution_count": 118,
     "metadata": {},
     "output_type": "execute_result"
    }
   ],
   "source": [
    "# timing GMRES solver with preconditioning\n",
    "start_time = time.time()\n",
    "# defining the preconditioner\n",
    "M2 = spla.spilu(A)\n",
    "M_x = lambda x: M2.solve(x)\n",
    "M = spla.LinearOperator((3,3), M_x)\n",
    "\n",
    "x, exitCode = spla.gmres(A, b, M=M)\n",
    "print(\"--- %s seconds ---\" % (time.time() - start_time))\n",
    "print(exitCode) \n",
    "np.allclose(A.dot(x),b) # check\n"
   ]
  },
  {
   "cell_type": "code",
   "execution_count": 119,
   "metadata": {},
   "outputs": [
    {
     "name": "stdout",
     "output_type": "stream",
     "text": [
      "--- 0.002992391586303711 seconds ---\n"
     ]
    },
    {
     "data": {
      "text/plain": [
       "True"
      ]
     },
     "execution_count": 119,
     "metadata": {},
     "output_type": "execute_result"
    }
   ],
   "source": [
    "# exact solution\n",
    "start_time = time.time()\n",
    "Ainv = spla.inv(A)\n",
    "x = Ainv.dot(b)\n",
    "print(\"--- %s seconds ---\" % (time.time() - start_time))\n",
    "np.allclose(A.dot(x),b) # check\n",
    "# A.dot(Ainv.dot(b))-b # check"
   ]
  },
  {
   "cell_type": "markdown",
   "metadata": {},
   "source": [
    "# Example 2\n",
    "We need to try a larger system to notice any speed-up with the preconditioning. Again, we'll try solving the system $\\mathbf{A}\\vec{x}=\\vec{b}$ but this time $\\mathbf{A}$ is a random half-sparse $400\\times400$ matrix and $\\vec{b}$ is a random vector of length 400"
   ]
  },
  {
   "cell_type": "code",
   "execution_count": 121,
   "metadata": {},
   "outputs": [],
   "source": [
    "from scipy.sparse import rand\n",
    "A = rand(400, 400, density=0.5, format=\"csc\", random_state=42)\n",
    "b = np.random.rand(400,1)"
   ]
  },
  {
   "cell_type": "code",
   "execution_count": 122,
   "metadata": {},
   "outputs": [
    {
     "name": "stdout",
     "output_type": "stream",
     "text": [
      "--- 10.074074983596802 seconds ---\n",
      "4000\n"
     ]
    },
    {
     "data": {
      "text/plain": [
       "False"
      ]
     },
     "execution_count": 122,
     "metadata": {},
     "output_type": "execute_result"
    }
   ],
   "source": [
    "start_time = time.time()\n",
    "x1, exitCode = spla.gmres(A,b) # GMRES iteration without preconditioning\n",
    "print(\"--- %s seconds ---\" % (time.time() - start_time))\n",
    "print(exitCode)\n",
    "np.allclose(A.dot(x1),b) # check"
   ]
  },
  {
   "cell_type": "code",
   "execution_count": 126,
   "metadata": {},
   "outputs": [
    {
     "name": "stdout",
     "output_type": "stream",
     "text": [
      "--- 0.1855008602142334 seconds ---\n"
     ]
    },
    {
     "data": {
      "text/plain": [
       "True"
      ]
     },
     "execution_count": 126,
     "metadata": {},
     "output_type": "execute_result"
    }
   ],
   "source": [
    "# exact solution\n",
    "start_time = time.time()\n",
    "Ainv = spla.inv(A)\n",
    "x = Ainv.dot(b)\n",
    "print(\"--- %s seconds ---\" % (time.time() - start_time))\n",
    "np.allclose(A.dot(x),b) # check\n",
    "# A.dot(Ainv.dot(b))-b # check"
   ]
  },
  {
   "cell_type": "code",
   "execution_count": 127,
   "metadata": {},
   "outputs": [
    {
     "name": "stdout",
     "output_type": "stream",
     "text": [
      "--- 0.01598978042602539 seconds ---\n",
      "0\n"
     ]
    },
    {
     "data": {
      "text/plain": [
       "True"
      ]
     },
     "execution_count": 127,
     "metadata": {},
     "output_type": "execute_result"
    }
   ],
   "source": [
    "start_time = time.time()\n",
    "'''\n",
    "A preconditioner, P, is chosen such that P is close to A but easy to solve for.\n",
    "The preconditioner parameter required by this routine is M=P^-1\n",
    "Here P is computed as an incomplete LU decomposition for a sparse, square matrix. \n",
    "'''\n",
    "n = 400\n",
    "# Construct a linear operator that computes P^-1 * v.\n",
    "Pinv = spla.spilu(A) # approximation to the inverse of A\n",
    "M = spla.LinearOperator((n,n), Pinv.solve)\n",
    "\n",
    "x2, exitCode = spla.gmres(A,b,M=M)# GMRES solver with preconditioning\n",
    "print(\"--- %s seconds ---\" % (time.time() - start_time))\n",
    "print(exitCode) \n",
    "np.allclose(np.ravel(b), np.ravel(A.dot(x2)))# check\n"
   ]
  },
  {
   "cell_type": "code",
   "execution_count": 128,
   "metadata": {},
   "outputs": [
    {
     "name": "stdout",
     "output_type": "stream",
     "text": [
      "3.277378368693462e-13\n"
     ]
    },
    {
     "data": {
      "text/plain": [
       "True"
      ]
     },
     "execution_count": 128,
     "metadata": {},
     "output_type": "execute_result"
    }
   ],
   "source": [
    "# estimating max error for preconditioned GMRES\n",
    "err = np.subtract(np.ravel(x),np.ravel(x2))\n",
    "print(err.max())\n",
    "np.allclose(np.ravel(x),np.ravel(x2))"
   ]
  },
  {
   "cell_type": "code",
   "execution_count": 129,
   "metadata": {},
   "outputs": [
    {
     "data": {
      "image/png": "[encoded data removed]",
      "text/plain": [
       "<Figure size 432x288 with 1 Axes>"
      ]
     },
     "metadata": {
      "needs_background": "light"
     },
     "output_type": "display_data"
    }
   ],
   "source": [
    "import matplotlib.pyplot as plt\n",
    "plt.plot(err)\n",
    "plt.show()"
   ]
  },
  {
   "cell_type": "markdown",
   "metadata": {},
   "source": [
    "## Next steps:\n",
    "Try scipy.optimize.newton_krylov with gmres method"
   ]
  },
  {
   "cell_type": "code",
   "execution_count": null,
   "metadata": {},
   "outputs": [],
   "source": []
  }
 ],
 "metadata": {
  "kernelspec": {
   "display_name": "Python 3",
   "language": "python",
   "name": "python3"
  },
  "language_info": {
   "codemirror_mode": {
    "name": "ipython",
    "version": 3
   },
   "file_extension": ".py",
   "mimetype": "text/x-python",
   "name": "python",
   "nbconvert_exporter": "python",
   "pygments_lexer": "ipython3",
   "version": "3.7.6"
  }
 },
 "nbformat": 4,
 "nbformat_minor": 4
}
